{
 "cells": [
  {
   "cell_type": "code",
   "execution_count": 12,
   "id": "c34506de-fc99-485a-a2f8-913175263147",
   "metadata": {},
   "outputs": [
    {
     "name": "stdout",
     "output_type": "stream",
     "text": [
      "Hi!\n"
     ]
    }
   ],
   "source": [
    "#shift + Enter\n",
    "print(\"Hi!\")"
   ]
  },
  {
   "cell_type": "code",
   "execution_count": 1,
   "id": "3a98d5c4-dc81-4a85-9372-dc8e51f6773f",
   "metadata": {},
   "outputs": [
    {
     "name": "stdout",
     "output_type": "stream",
     "text": [
      "14\n"
     ]
    }
   ],
   "source": [
    "#y = a * x + b\n",
    "#ozgaruvchi va ozgarmaslar\n",
    "#javob - Gt (ground truth), label\n",
    "x = 4\n",
    "y = 18\n",
    "a, b = 3, 2\n",
    "\n",
    "# w * x + b\n",
    "def model(w, x, b):\n",
    "    return w * x + b\n",
    "bashorat = model(w = a, x = x, b = b)\n",
    "print(bashorat)\n",
    "\n",
    "\n",
    "\n"
   ]
  },
  {
   "cell_type": "code",
   "execution_count": 3,
   "id": "f09908a8-838e-4e3b-950b-b663ca248842",
   "metadata": {},
   "outputs": [
    {
     "name": "stdout",
     "output_type": "stream",
     "text": [
      "11.9999999999\n"
     ]
    }
   ],
   "source": [
    "\n",
    "W = -2\n",
    "b = 2\n",
    "x = 1\n",
    "gt = 12\n",
    "def model(w, x, b):\n",
    "    return w*3*x + 4*b\n",
    "bashorat = model(w = 1.3333333333, x = x, b = b)\n",
    "print(bashorat)\n"
   ]
  },
  {
   "cell_type": "code",
   "execution_count": 26,
   "id": "02032c48-5ecb-4886-b65c-006127d4f448",
   "metadata": {},
   "outputs": [
    {
     "name": "stdout",
     "output_type": "stream",
     "text": [
      "10\n",
      "26.069999999999997\n"
     ]
    },
    {
     "data": {
      "text/plain": [
       "0"
      ]
     },
     "execution_count": 26,
     "metadata": {},
     "output_type": "execute_result"
    }
   ],
   "source": [
    "gt = 10\n",
    "w = 4\n",
    "b = -3\n",
    "x = -1\n",
    "\n",
    "\n",
    "#w1 = 4 - 0.01 * w.grad = 10 = 4.1; b1 = -3 - 0.01 * b.grad = -10= 3.1;\n",
    "x=-1\n",
    "y=10\n",
    "w,b=4,-3\n",
    "def model (w,x,b):\n",
    "    return w*5*x+2*b\n",
    "bashorat=model(w=w,x=x,b=15)\n",
    "print(bashorat)\n",
    "def model(w, x, b):\n",
    "    return w * 5 * x + 2 * b \n",
    "prediction = model(w = -4.01, x = x, b = 3.01)\n",
    "print(prediction)\n",
    "\n",
    "def mse(prediction, groundtr):\n",
    "\n",
    "    loss = (prediction - groundtr) **2\n",
    "    \n",
    "    return loss\n",
    "\n",
    "mse(prediction = 10, groundtr = 10)"
   ]
  },
  {
   "cell_type": "code",
   "execution_count": 31,
   "id": "41e7a94e-279a-4ba7-a97c-5389f348af6a",
   "metadata": {},
   "outputs": [
    {
     "name": "stdout",
     "output_type": "stream",
     "text": [
      "step 1\n",
      "bashorat: 41\n",
      "loss: 676\n",
      "step 2\n",
      "bashorat: 33.2\n",
      "loss: 331.2400000000001\n",
      "step 3\n",
      "bashorat: 27.74\n",
      "loss: 162.30759999999995\n",
      "step 4\n",
      "bashorat: 23.918\n",
      "loss: 79.53072399999999\n"
     ]
    }
   ],
   "source": [
    "x = 2\n",
    "y = 15\n",
    "w, b = 5,-1\n",
    "\n",
    "def model(w, x, b):\n",
    "    return w*4*x-b\n",
    "\n",
    "def mse(bashorat, y):\n",
    "    return (bashorat - y) ** 2\n",
    "\n",
    "def optimization(wn, grad):\n",
    "    return wn - 0.01 * grad\n",
    "\n",
    "for step in range(1, 5):\n",
    "    bashorat = model(w=w, x=x, b=b)\n",
    "    loss = mse(bashorat=bashorat, y=y)\n",
    "    print(f\"step {step}\")\n",
    "    print(f\"bashorat: {bashorat}\")\n",
    "    print(f\"loss: {loss}\")\n",
    "    \n",
    "\n",
    "    wn_grad = 2 * (bashorat - y) * x  \n",
    "    bn_grad = 2 * (bashorat - y)      \n",
    "\n",
    "    w = optimization(wn=w, grad=wn_grad)\n",
    "    b = optimization(wn=b, grad=bn_grad) \n",
    "\n",
    " \n",
    "\n"
   ]
  },
  {
   "cell_type": "code",
   "execution_count": 33,
   "id": "0c94e720-7fc8-4fd9-93a5-9ad1ad1f5a63",
   "metadata": {},
   "outputs": [
    {
     "name": "stdout",
     "output_type": "stream",
     "text": [
      "step 1\n",
      "bashorat: 15\n",
      "loss: 25\n",
      "step 2\n",
      "bashorat: 22.0\n",
      "loss: 4.0\n",
      "step 3\n",
      "bashorat: 19.200000000000003\n",
      "loss: 0.6399999999999955\n",
      "step 4\n",
      "bashorat: 20.319999999999997\n",
      "loss: 0.10239999999999791\n"
     ]
    }
   ],
   "source": [
    "\n",
    "x = 2\n",
    "y = 20\n",
    "w, b = 6, 1\n",
    "\n",
    "def model(w, x, b):\n",
    "    return w * x + 3 * b\n",
    "\n",
    "def mse(bashorat, y):\n",
    "    return (bashorat - y) ** 2\n",
    "\n",
    "def optimization(wn, grad):\n",
    "    return wn - 0.1 * grad\n",
    "\n",
    "for step in range(1, 5):\n",
    "    bashorat = model(w=w, x=x, b=b)\n",
    "    loss = mse(bashorat=bashorat, y=y)\n",
    "    \n",
    "    print(f\"step {step}\")\n",
    "    print(f\"bashorat: {bashorat}\")\n",
    "    print(f\"loss: {loss}\")\n",
    "    \n",
    "    wn_grad = 2 * (bashorat - y) * x\n",
    "    bn_grad = 2 * (bashorat - y)     \n",
    "\n",
    "    w = optimization(wn=w, grad=wn_grad)\n",
    "    b = optimization(wn=b, grad=bn_grad)\n"
   ]
  },
  {
   "cell_type": "code",
   "execution_count": 35,
   "id": "69dd22f0-15cd-4530-92d1-c64c33dce856",
   "metadata": {},
   "outputs": [
    {
     "name": "stdout",
     "output_type": "stream",
     "text": [
      "step 1\n",
      "bashorat: -250\n",
      "loss: 77841\n",
      "step 2\n",
      "bashorat: -116.08\n",
      "loss: 21048.206399999995\n",
      "step 3\n",
      "bashorat: -46.44160000000001\n",
      "loss: 5691.4350105600015\n",
      "step 4\n",
      "bashorat: -10.229631999999995\n",
      "loss: 1538.9640268554235\n",
      "step 5\n",
      "bashorat: 8.600591359999996\n",
      "loss: 416.13587286170684\n",
      "step 6\n",
      "bashorat: 18.3923075072\n",
      "loss: 112.52314002180545\n"
     ]
    }
   ],
   "source": [
    "x = -2\n",
    "y = 29\n",
    "w, b = 15,10\n",
    "\n",
    "def model(w, x, b):\n",
    "    return w*7*x-4*b\n",
    "\n",
    "def mse(bashorat, y):\n",
    "    return (bashorat - y) ** 2\n",
    "\n",
    "def optimization(wn, grad):\n",
    "    return wn - 0.01 * grad\n",
    "\n",
    "for step in range(1, 7):\n",
    "    bashorat = model(w=w, x=x, b=b)\n",
    "    loss = mse(bashorat=bashorat, y=y)\n",
    "    \n",
    "    print(f\"step {step}\")\n",
    "    print(f\"bashorat: {bashorat}\")\n",
    "    print(f\"loss: {loss}\")\n",
    "    \n",
    "    wn_grad = 2 * (bashorat - y) * x  \n",
    "    bn_grad = 2 * (bashorat - y)      \n",
    "\n",
    "    w = optimization(wn=w, grad=wn_grad)\n",
    "    b = optimization(wn=b, grad=bn_grad)  "
   ]
  },
  {
   "cell_type": "code",
   "execution_count": null,
   "id": "7258a3b1-3aa7-4caf-8356-aefa389ba0fd",
   "metadata": {},
   "outputs": [],
   "source": []
  }
 ],
 "metadata": {
  "kernelspec": {
   "display_name": "Python 3 (ipykernel)",
   "language": "python",
   "name": "python3"
  },
  "language_info": {
   "codemirror_mode": {
    "name": "ipython",
    "version": 3
   },
   "file_extension": ".py",
   "mimetype": "text/x-python",
   "name": "python",
   "nbconvert_exporter": "python",
   "pygments_lexer": "ipython3",
   "version": "3.11.7"
  }
 },
 "nbformat": 4,
 "nbformat_minor": 5
}
